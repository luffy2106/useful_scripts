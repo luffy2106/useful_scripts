{
 "cells": [
  {
   "cell_type": "markdown",
   "metadata": {},
   "source": [
    "## Virtual environments jupyterlab"
   ]
  },
  {
   "cell_type": "raw",
   "metadata": {},
   "source": [
    "virtualenv --python=python3.6 .venv\n",
    "source .venv/bin/activate\n",
    "pip install jupyterlab ipykernel\n",
    "ipython kernel install --user --name=.venv\n",
    "jupyter lab --no-browser --ip=\"0.0.0.0\" --port=9874 --NotebookApp.token='' --NotebookApp.password=''"
   ]
  },
  {
   "cell_type": "markdown",
   "metadata": {},
   "source": [
    "## Delete similar files in folder"
   ]
  },
  {
   "cell_type": "raw",
   "metadata": {},
   "source": [
    "from pathlib import Path\n",
    "import glob \n",
    "\n",
    "all_files = set() \n",
    "my_path = \".\\\\Pictures\"\n",
    "files = glob.glob(my_path + '/**/*.*', recursive=True)  \n",
    "\n",
    "for file in files: \n",
    "    path_file = Path(file) \n",
    "    file_name = path_file.name \n",
    "    if file_name not in all_files: \n",
    "        all_files.add(file_name) \n",
    "    else: \n",
    "        rem_file = Path(file) \n",
    "        rem_file.unlink() "
   ]
  },
  {
   "cell_type": "markdown",
   "metadata": {},
   "source": [
    "## Draw list of bounding bounding box from list of coordinator"
   ]
  },
  {
   "cell_type": "raw",
   "metadata": {},
   "source": [
    "import cv2\n",
    "from google.colab.patches import cv2_imshow\n",
    "def show_bounding_boxs(image_path, list_bounding_box):\n",
    "  \"\"\"\n",
    "  Each bouding box in the list is : x0,y0,x1,y1, which follow the standard of\\\n",
    "  openCV\n",
    "  \"\"\"\n",
    "  image = cv2.imread(path)\n",
    "  #Blue color in BGR\n",
    "  color = (255, 0, 0)\n",
    "  #Line thickness of 2 px \n",
    "  thickness = 2\n",
    "  for box in list_bounding_box: \n",
    "    start_point = (box[0], box[1]) \n",
    "    end_point = (box[2], box[3])    \n",
    "    # Using cv2.rectangle() method  \n",
    "    # Draw a rectangle with blue line borders of thickness of 2 px  \n",
    "    image = cv2.rectangle(image, start_point, end_point, color, thickness) \n",
    "    # if you use openCV\n",
    "    # cv2.imshow('image',image) \n",
    "    # if you use google colab \n",
    "    cv2_imshow(image)\n",
    "\n",
    "path = \"V-216B-131-A-873_005_001-105.jpg\"\n",
    "list_bounding_box = [(5,5,220,220)]\n",
    "show_bounding_boxs(path, list_bounding_box)"
   ]
  },
  {
   "cell_type": "code",
   "execution_count": null,
   "metadata": {},
   "outputs": [],
   "source": []
  }
 ],
 "metadata": {
  "kernelspec": {
   "display_name": "Python 3",
   "language": "python",
   "name": "python3"
  },
  "language_info": {
   "codemirror_mode": {
    "name": "ipython",
    "version": 3
   },
   "file_extension": ".py",
   "mimetype": "text/x-python",
   "name": "python",
   "nbconvert_exporter": "python",
   "pygments_lexer": "ipython3",
   "version": "3.6.6"
  }
 },
 "nbformat": 4,
 "nbformat_minor": 4
}
